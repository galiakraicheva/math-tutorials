{
 "cells": [
  {
   "cell_type": "markdown",
   "id": "2025ceaa-b8e4-43d4-b251-ab36e246cfc5",
   "metadata": {},
   "source": [
    "# HELM Workbook 1: Basic Algebra\n",
    "\n",
    "## Scientific Notation:\n",
    "\n",
    "### Why Use Scientific Notation?\n",
    "1) **Efficiency**: It simplifies writing and working with extremely large or small numbers, such as:\n",
    "- The speed of light: $c = 3.0 \\times 10^8 \\, \\text{m/s}$.\n",
    "- The mass of an electron: $9.11 \\times 10^{-31} \\, \\text{kg}$.\n",
    "\n",
    "2) **Clarity**: It avoids ambiguity by clearly showing the number’s order of magnitude.\n",
    "\n",
    "3) **Precision**: It makes it easier to represent numbers with significant digits only, reducing unnecessary trailing zeros.\n",
    "\n",
    "### Format:\n",
    "\n",
    "A number in scientific notation is written as:\n",
    "\n",
    "\n",
    "$ a \\times 10^n $\n",
    "\n",
    "\n",
    "Where:\n",
    "\n",
    "- a : A decimal number called the mantissa or coefficient, satisfying  1 < |a| < 10 .\n",
    "- $ 10^n $: A power of ten, where  n  is an integer.\n",
    "\n",
    "### Converting a Number into Scientific Notation:\n",
    "\n",
    "1) Move the decimal point in the number so that only one non-zero digit remains to the left of the decimal.\n",
    "2) Count how many places the decimal point was moved:\n",
    "- If the decimal was moved left,  n  is positive.\n",
    "- If the decimal was moved right,  n  is negative.\n",
    "3) Write the number as  $ a \\times 10^n $."
   ]
  },
  {
   "cell_type": "markdown",
   "id": "30628c75-a8e1-4bdb-9373-80adaf14cdb2",
   "metadata": {},
   "source": [
    "## Factorisation of a quadratic equation\n",
    "\n",
    "**Factorisation:** a method for solving quadratic equations by representing a quadratic equation $ ax^2 + bx + c = 0 $, where $ a != 0 $, as the multiplication of two factors. It is used for simpler quadratic equations, for which the multiples are more obvious. For more complex quadratic equations with less obvious factorisation, it is preferable to use the formula $ x = \\frac{-b \\pm \\sqrt{b^2 - 4ac}}{2a} $. \n",
    "\n",
    "To factorise, we need to find two numbers n and m such that: \n",
    "$$ \n",
    "\\begin{align*}\n",
    "n + m &= b \\\\\n",
    "n \\times m &= a \\times c\n",
    "\\end{align*}\n",
    "$$"
   ]
  },
  {
   "cell_type": "code",
   "execution_count": null,
   "id": "2abefa7a-0663-4b46-84e5-78279808800a",
   "metadata": {},
   "outputs": [],
   "source": []
  },
  {
   "cell_type": "code",
   "execution_count": null,
   "id": "05f8d8a0-17fe-4552-8af6-f304fd713870",
   "metadata": {},
   "outputs": [],
   "source": []
  }
 ],
 "metadata": {
  "kernelspec": {
   "display_name": "Python 3 (ipykernel)",
   "language": "python",
   "name": "python3"
  },
  "language_info": {
   "codemirror_mode": {
    "name": "ipython",
    "version": 3
   },
   "file_extension": ".py",
   "mimetype": "text/x-python",
   "name": "python",
   "nbconvert_exporter": "python",
   "pygments_lexer": "ipython3",
   "version": "3.10.14"
  }
 },
 "nbformat": 4,
 "nbformat_minor": 5
}
